{
 "cells": [
  {
   "cell_type": "markdown",
   "id": "254fc79a",
   "metadata": {},
   "source": [
    "## 数据操作"
   ]
  },
  {
   "cell_type": "code",
   "execution_count": 2,
   "id": "fd18a77d",
   "metadata": {},
   "outputs": [],
   "source": [
    "import torch"
   ]
  },
  {
   "cell_type": "code",
   "execution_count": 3,
   "id": "66253bd3",
   "metadata": {},
   "outputs": [],
   "source": [
    "x = torch.arange(12)"
   ]
  },
  {
   "cell_type": "code",
   "execution_count": 4,
   "id": "fc4dece7",
   "metadata": {},
   "outputs": [
    {
     "data": {
      "text/plain": [
       "tensor([ 0,  1,  2,  3,  4,  5,  6,  7,  8,  9, 10, 11])"
      ]
     },
     "execution_count": 4,
     "metadata": {},
     "output_type": "execute_result"
    }
   ],
   "source": [
    "x "
   ]
  },
  {
   "cell_type": "markdown",
   "id": "8232bfcd",
   "metadata": {},
   "source": [
    "#### x 表示一个张量，shape是其属性"
   ]
  },
  {
   "cell_type": "code",
   "execution_count": 5,
   "id": "0787077d",
   "metadata": {},
   "outputs": [
    {
     "data": {
      "text/plain": [
       "torch.Size([12])"
      ]
     },
     "execution_count": 5,
     "metadata": {},
     "output_type": "execute_result"
    }
   ],
   "source": [
    "x.shape"
   ]
  },
  {
   "cell_type": "markdown",
   "id": "8465fc82",
   "metadata": {},
   "source": [
    "#### numel()方法返回元素个数，永远是标量"
   ]
  },
  {
   "cell_type": "code",
   "execution_count": 6,
   "id": "4b6a0f6a",
   "metadata": {},
   "outputs": [
    {
     "data": {
      "text/plain": [
       "12"
      ]
     },
     "execution_count": 6,
     "metadata": {},
     "output_type": "execute_result"
    }
   ],
   "source": [
    "x.numel()"
   ]
  },
  {
   "cell_type": "code",
   "execution_count": 7,
   "id": "205780bb",
   "metadata": {},
   "outputs": [
    {
     "data": {
      "text/plain": [
       "tensor([[ 0,  1,  2,  3],\n",
       "        [ 4,  5,  6,  7],\n",
       "        [ 8,  9, 10, 11]])"
      ]
     },
     "execution_count": 7,
     "metadata": {},
     "output_type": "execute_result"
    }
   ],
   "source": [
    "x = x.reshape(3,4)\n",
    "x"
   ]
  },
  {
   "cell_type": "markdown",
   "id": "68d02927",
   "metadata": {},
   "source": [
    "#### 构造时，接受tuble"
   ]
  },
  {
   "cell_type": "code",
   "execution_count": 8,
   "id": "917da053",
   "metadata": {},
   "outputs": [
    {
     "data": {
      "text/plain": [
       "tensor([[[0., 0., 0., 0.],\n",
       "         [0., 0., 0., 0.],\n",
       "         [0., 0., 0., 0.]],\n",
       "\n",
       "        [[0., 0., 0., 0.],\n",
       "         [0., 0., 0., 0.],\n",
       "         [0., 0., 0., 0.]]])"
      ]
     },
     "execution_count": 8,
     "metadata": {},
     "output_type": "execute_result"
    }
   ],
   "source": [
    "torch.zeros((2, 3, 4))"
   ]
  },
  {
   "cell_type": "code",
   "execution_count": 9,
   "id": "6b99eb17",
   "metadata": {
    "scrolled": true
   },
   "outputs": [
    {
     "data": {
      "text/plain": [
       "tensor([[[1., 1., 1., 1.],\n",
       "         [1., 1., 1., 1.],\n",
       "         [1., 1., 1., 1.]],\n",
       "\n",
       "        [[1., 1., 1., 1.],\n",
       "         [1., 1., 1., 1.],\n",
       "         [1., 1., 1., 1.]]])"
      ]
     },
     "execution_count": 9,
     "metadata": {},
     "output_type": "execute_result"
    }
   ],
   "source": [
    "torch.ones((2, 3, 4))"
   ]
  },
  {
   "cell_type": "code",
   "execution_count": 10,
   "id": "fb560f5e",
   "metadata": {},
   "outputs": [],
   "source": [
    "y = torch.tensor([[2, 1, 4, 3], [1, 2, 3, 4], [4, 3, 2, 1]])"
   ]
  },
  {
   "cell_type": "code",
   "execution_count": 11,
   "id": "a15aafc7",
   "metadata": {},
   "outputs": [
    {
     "data": {
      "text/plain": [
       "torch.Size([3, 4])"
      ]
     },
     "execution_count": 11,
     "metadata": {},
     "output_type": "execute_result"
    }
   ],
   "source": [
    "y.shape"
   ]
  },
  {
   "cell_type": "markdown",
   "id": "28f39980",
   "metadata": {},
   "source": [
    "#### 常见运算符（+，-，*，/,**）都可以被升级为按元素计算"
   ]
  },
  {
   "cell_type": "code",
   "execution_count": 12,
   "id": "e606dd88",
   "metadata": {},
   "outputs": [
    {
     "data": {
      "text/plain": [
       "(tensor([ 3.,  4.,  6., 10.]),\n",
       " tensor([-1.,  0.,  2.,  6.]),\n",
       " tensor([ 2.,  4.,  8., 16.]),\n",
       " tensor([0.5000, 1.0000, 2.0000, 4.0000]),\n",
       " tensor([ 1.,  4., 16., 64.]))"
      ]
     },
     "execution_count": 12,
     "metadata": {},
     "output_type": "execute_result"
    }
   ],
   "source": [
    "x = torch.tensor([1.0, 2, 4, 8])\n",
    "y = torch.tensor([2, 2, 2, 2])\n",
    "x + y, x - y, x * y, x / y, x ** y"
   ]
  },
  {
   "cell_type": "code",
   "execution_count": 13,
   "id": "dc108bf7",
   "metadata": {},
   "outputs": [
    {
     "data": {
      "text/plain": [
       "torch.int64"
      ]
     },
     "execution_count": 13,
     "metadata": {},
     "output_type": "execute_result"
    }
   ],
   "source": [
    "y.dtype"
   ]
  },
  {
   "cell_type": "markdown",
   "id": "3967533a",
   "metadata": {},
   "source": [
    "#### dim 0按行，1按列，拼接"
   ]
  },
  {
   "cell_type": "code",
   "execution_count": 14,
   "id": "6b6804b6",
   "metadata": {},
   "outputs": [
    {
     "data": {
      "text/plain": [
       "(tensor([[ 0.,  1.,  2.,  3.],\n",
       "         [ 4.,  5.,  6.,  7.],\n",
       "         [ 8.,  9., 10., 11.],\n",
       "         [ 2.,  1.,  4.,  3.],\n",
       "         [ 1.,  2.,  3.,  4.],\n",
       "         [ 4.,  3.,  2.,  1.]]),\n",
       " tensor([[ 0.,  1.,  2.,  3.,  2.,  1.,  4.,  3.],\n",
       "         [ 4.,  5.,  6.,  7.,  1.,  2.,  3.,  4.],\n",
       "         [ 8.,  9., 10., 11.,  4.,  3.,  2.,  1.]]))"
      ]
     },
     "execution_count": 14,
     "metadata": {},
     "output_type": "execute_result"
    }
   ],
   "source": [
    "X = torch.arange(12, dtype=torch.float32).reshape((3, 4))\n",
    "Y = torch.tensor([[2.0, 1, 4, 3], [1, 2, 3, 4], [4, 3, 2, 1]])\n",
    "torch.cat((X, Y), dim=0), torch.cat((X, Y), dim=1)"
   ]
  },
  {
   "cell_type": "markdown",
   "id": "83012493",
   "metadata": {},
   "source": [
    "#### 判断，求和"
   ]
  },
  {
   "cell_type": "code",
   "execution_count": 15,
   "id": "e3a7658d",
   "metadata": {},
   "outputs": [
    {
     "data": {
      "text/plain": [
       "tensor([[False,  True, False,  True],\n",
       "        [False, False, False, False],\n",
       "        [False, False, False, False]])"
      ]
     },
     "execution_count": 15,
     "metadata": {},
     "output_type": "execute_result"
    }
   ],
   "source": [
    "X == Y"
   ]
  },
  {
   "cell_type": "code",
   "execution_count": 16,
   "id": "e8c6df8b",
   "metadata": {},
   "outputs": [
    {
     "data": {
      "text/plain": [
       "tensor(30.)"
      ]
     },
     "execution_count": 16,
     "metadata": {},
     "output_type": "execute_result"
    }
   ],
   "source": [
    "Y.sum()"
   ]
  },
  {
   "cell_type": "markdown",
   "id": "86965980",
   "metadata": {},
   "source": [
    "#### 形状不同的广播机制（broadcasting）来执行按元素操作,找到元素相同的行或者列，拓展不同的部分，直接复制过去再运算"
   ]
  },
  {
   "cell_type": "code",
   "execution_count": 17,
   "id": "19efdadb",
   "metadata": {},
   "outputs": [
    {
     "data": {
      "text/plain": [
       "(tensor([[0],\n",
       "         [1],\n",
       "         [2]]),\n",
       " tensor([[0, 1]]))"
      ]
     },
     "execution_count": 17,
     "metadata": {},
     "output_type": "execute_result"
    }
   ],
   "source": [
    "a = torch.arange(3).reshape((3, 1))\n",
    "b = torch.arange(2).reshape((1, 2))\n",
    "a, b "
   ]
  },
  {
   "cell_type": "code",
   "execution_count": 18,
   "id": "ebec472e",
   "metadata": {},
   "outputs": [
    {
     "data": {
      "text/plain": [
       "tensor([[0, 1],\n",
       "        [1, 2],\n",
       "        [2, 3]])"
      ]
     },
     "execution_count": 18,
     "metadata": {},
     "output_type": "execute_result"
    }
   ],
   "source": [
    "a + b"
   ]
  },
  {
   "cell_type": "markdown",
   "id": "fbaffd90",
   "metadata": {},
   "source": [
    "#### [-1]访问最后一个元素，[1:3]第二、三个元素,这里元素指的是行，也就是如果多维的话名称代表的第一个维度"
   ]
  },
  {
   "cell_type": "code",
   "execution_count": 20,
   "id": "bebb07e2",
   "metadata": {},
   "outputs": [
    {
     "data": {
      "text/plain": [
       "(tensor([ 8.,  9., 10., 11.]),\n",
       " tensor([[ 4.,  5.,  6.,  7.],\n",
       "         [ 8.,  9., 10., 11.]]))"
      ]
     },
     "execution_count": 20,
     "metadata": {},
     "output_type": "execute_result"
    }
   ],
   "source": [
    "X[-1], X[1:3]"
   ]
  },
  {
   "cell_type": "code",
   "execution_count": 21,
   "id": "20581460",
   "metadata": {},
   "outputs": [],
   "source": [
    "X[1, 2] = 9"
   ]
  },
  {
   "cell_type": "code",
   "execution_count": 22,
   "id": "e8953029",
   "metadata": {},
   "outputs": [
    {
     "data": {
      "text/plain": [
       "tensor([[ 0.,  1.,  2.,  3.],\n",
       "        [ 4.,  5.,  9.,  7.],\n",
       "        [ 8.,  9., 10., 11.]])"
      ]
     },
     "execution_count": 22,
     "metadata": {},
     "output_type": "execute_result"
    }
   ],
   "source": [
    "X"
   ]
  },
  {
   "cell_type": "code",
   "execution_count": 23,
   "id": "84b20a30",
   "metadata": {},
   "outputs": [
    {
     "data": {
      "text/plain": [
       "tensor([[12., 12., 12., 12.],\n",
       "        [12., 12., 12., 12.],\n",
       "        [ 8.,  9., 10., 11.]])"
      ]
     },
     "execution_count": 23,
     "metadata": {},
     "output_type": "execute_result"
    }
   ],
   "source": [
    "X[0:2, :] = 12\n",
    "X"
   ]
  },
  {
   "cell_type": "markdown",
   "id": "6fa1a082",
   "metadata": {},
   "source": [
    "#### 执行操作可能会导致为新结果分配内存，在赋值很大元素的时候，最好不要赋值导致重新分配内存，消耗时间，建议原地操作"
   ]
  },
  {
   "cell_type": "code",
   "execution_count": 24,
   "id": "80df4053",
   "metadata": {},
   "outputs": [
    {
     "data": {
      "text/plain": [
       "False"
      ]
     },
     "execution_count": 24,
     "metadata": {},
     "output_type": "execute_result"
    }
   ],
   "source": [
    "before = id(Y)\n",
    "Y = Y + X\n",
    "id(Y) == before"
   ]
  },
  {
   "cell_type": "code",
   "execution_count": 25,
   "id": "e447798a",
   "metadata": {},
   "outputs": [
    {
     "data": {
      "text/plain": [
       "139946656314768"
      ]
     },
     "execution_count": 25,
     "metadata": {},
     "output_type": "execute_result"
    }
   ],
   "source": [
    "id(X)"
   ]
  },
  {
   "cell_type": "markdown",
   "id": "54bd805d",
   "metadata": {},
   "source": [
    "#### 原地操作,[:]"
   ]
  },
  {
   "cell_type": "code",
   "execution_count": 26,
   "id": "10b61cef",
   "metadata": {},
   "outputs": [
    {
     "name": "stdout",
     "output_type": "stream",
     "text": [
      "id(Z): 139946656317168\n",
      "id(Z): 139946656317168\n"
     ]
    }
   ],
   "source": [
    "Z = torch.zeros_like(Y)\n",
    "print('id(Z):', id(Z))\n",
    "Z[:] = X + Y\n",
    "print('id(Z):', id(Z))"
   ]
  },
  {
   "cell_type": "markdown",
   "id": "92143bca",
   "metadata": {},
   "source": [
    "#### 如果在后续计算中没有重复使用X，可以使用X[:] = X + Y或 X += Y来减少操作的内存开销"
   ]
  },
  {
   "cell_type": "code",
   "execution_count": 27,
   "id": "cc28fc87",
   "metadata": {},
   "outputs": [
    {
     "data": {
      "text/plain": [
       "True"
      ]
     },
     "execution_count": 27,
     "metadata": {},
     "output_type": "execute_result"
    }
   ],
   "source": [
    "before = id(X)\n",
    "X += Y\n",
    "# X[:] = X + Y\n",
    "id(X) == before"
   ]
  },
  {
   "cell_type": "markdown",
   "id": "09ed1b12",
   "metadata": {},
   "source": [
    "#### 与numpy互转"
   ]
  },
  {
   "cell_type": "code",
   "execution_count": 28,
   "id": "3aa546d9",
   "metadata": {},
   "outputs": [
    {
     "data": {
      "text/plain": [
       "(numpy.ndarray, torch.Tensor)"
      ]
     },
     "execution_count": 28,
     "metadata": {},
     "output_type": "execute_result"
    }
   ],
   "source": [
    "A = X.numpy()\n",
    "B = torch.tensor(A)\n",
    "type(A), type(B)"
   ]
  },
  {
   "cell_type": "code",
   "execution_count": 29,
   "id": "e4a2b5e9",
   "metadata": {},
   "outputs": [
    {
     "data": {
      "text/plain": [
       "array([[26., 25., 28., 27.],\n",
       "       [25., 26., 27., 28.],\n",
       "       [20., 21., 22., 23.]], dtype=float32)"
      ]
     },
     "execution_count": 29,
     "metadata": {},
     "output_type": "execute_result"
    }
   ],
   "source": [
    "A"
   ]
  },
  {
   "cell_type": "code",
   "execution_count": 30,
   "id": "49d3822d",
   "metadata": {},
   "outputs": [
    {
     "data": {
      "text/plain": [
       "tensor([[26., 25., 28., 27.],\n",
       "        [25., 26., 27., 28.],\n",
       "        [20., 21., 22., 23.]])"
      ]
     },
     "execution_count": 30,
     "metadata": {},
     "output_type": "execute_result"
    }
   ],
   "source": [
    "B"
   ]
  },
  {
   "cell_type": "code",
   "execution_count": 31,
   "id": "2137e096",
   "metadata": {},
   "outputs": [
    {
     "data": {
      "text/plain": [
       "(tensor([3.]), 3.0, 3.0, 3)"
      ]
     },
     "execution_count": 31,
     "metadata": {},
     "output_type": "execute_result"
    }
   ],
   "source": [
    "a = torch.tensor([3.0])\n",
    "a, a.item(), float(a), int(a)"
   ]
  },
  {
   "cell_type": "code",
   "execution_count": 32,
   "id": "65d6d4da",
   "metadata": {},
   "outputs": [
    {
     "data": {
      "text/plain": [
       "torch.float32"
      ]
     },
     "execution_count": 32,
     "metadata": {},
     "output_type": "execute_result"
    }
   ],
   "source": [
    "a.dtype"
   ]
  },
  {
   "cell_type": "markdown",
   "id": "41ff9da5",
   "metadata": {},
   "source": [
    "## 数据预处理"
   ]
  },
  {
   "cell_type": "code",
   "execution_count": 47,
   "id": "49978824",
   "metadata": {},
   "outputs": [],
   "source": [
    "import os\n",
    "os.makedirs(os.path.join('.', 'data'), exist_ok=True)\n",
    "data_file = os.path.join('.', 'data', 'house_tiny.csv')\n",
    "with open(data_file, 'w') as f:\n",
    "    f.write('NumberRooms,Alley,Price\\n') # 列名\n",
    "    f.write('NA,Pave,127500\\n') # 每行表示一个数据样本\n",
    "    f.write('2,NA,106000\\n')\n",
    "    f.write('4,NA,178000\\n')\n",
    "    f.write('NA,NA,140000\\n')"
   ]
  },
  {
   "cell_type": "code",
   "execution_count": 48,
   "id": "a37cbc17",
   "metadata": {},
   "outputs": [],
   "source": [
    "import pandas as pd"
   ]
  },
  {
   "cell_type": "code",
   "execution_count": 49,
   "id": "a324529a",
   "metadata": {},
   "outputs": [
    {
     "name": "stdout",
     "output_type": "stream",
     "text": [
      "   NumberRooms Alley   Price\n",
      "0          NaN  Pave  127500\n",
      "1          2.0   NaN  106000\n",
      "2          4.0   NaN  178000\n",
      "3          NaN   NaN  140000\n"
     ]
    },
    {
     "data": {
      "text/html": [
       "<div>\n",
       "<style scoped>\n",
       "    .dataframe tbody tr th:only-of-type {\n",
       "        vertical-align: middle;\n",
       "    }\n",
       "\n",
       "    .dataframe tbody tr th {\n",
       "        vertical-align: top;\n",
       "    }\n",
       "\n",
       "    .dataframe thead th {\n",
       "        text-align: right;\n",
       "    }\n",
       "</style>\n",
       "<table border=\"1\" class=\"dataframe\">\n",
       "  <thead>\n",
       "    <tr style=\"text-align: right;\">\n",
       "      <th></th>\n",
       "      <th>NumberRooms</th>\n",
       "      <th>Alley</th>\n",
       "      <th>Price</th>\n",
       "    </tr>\n",
       "  </thead>\n",
       "  <tbody>\n",
       "    <tr>\n",
       "      <th>0</th>\n",
       "      <td>NaN</td>\n",
       "      <td>Pave</td>\n",
       "      <td>127500</td>\n",
       "    </tr>\n",
       "    <tr>\n",
       "      <th>1</th>\n",
       "      <td>2.0</td>\n",
       "      <td>NaN</td>\n",
       "      <td>106000</td>\n",
       "    </tr>\n",
       "    <tr>\n",
       "      <th>2</th>\n",
       "      <td>4.0</td>\n",
       "      <td>NaN</td>\n",
       "      <td>178000</td>\n",
       "    </tr>\n",
       "    <tr>\n",
       "      <th>3</th>\n",
       "      <td>NaN</td>\n",
       "      <td>NaN</td>\n",
       "      <td>140000</td>\n",
       "    </tr>\n",
       "  </tbody>\n",
       "</table>\n",
       "</div>"
      ],
      "text/plain": [
       "   NumberRooms Alley   Price\n",
       "0          NaN  Pave  127500\n",
       "1          2.0   NaN  106000\n",
       "2          4.0   NaN  178000\n",
       "3          NaN   NaN  140000"
      ]
     },
     "execution_count": 49,
     "metadata": {},
     "output_type": "execute_result"
    }
   ],
   "source": [
    "data = pd.read_csv(data_file)\n",
    "print(data)\n",
    "data"
   ]
  },
  {
   "cell_type": "markdown",
   "id": "dc3731f5",
   "metadata": {},
   "source": [
    "#### 处理缺失数据，典型办法插值、删除，这里考虑插值"
   ]
  },
  {
   "cell_type": "code",
   "execution_count": 55,
   "id": "e04c16c6",
   "metadata": {},
   "outputs": [
    {
     "name": "stdout",
     "output_type": "stream",
     "text": [
      "   NumberRooms Alley\n",
      "0          3.0  Pave\n",
      "1          2.0   NaN\n",
      "2          4.0   NaN\n",
      "3          3.0   NaN\n"
     ]
    }
   ],
   "source": [
    "inputs, outputs = data.iloc[:, 0:2], data.iloc[:, 2]\n",
    "inputs = inputs.fillna(inputs.mean())\n",
    "print(inputs)"
   ]
  },
  {
   "cell_type": "markdown",
   "id": "e5eb828d",
   "metadata": {},
   "source": [
    "#### 对于inputs中的类别值或者离散值，我们将NaN视为一个类别，其实就是One-hot编码，将字符串转为数字"
   ]
  },
  {
   "cell_type": "code",
   "execution_count": 56,
   "id": "a38f7b93",
   "metadata": {},
   "outputs": [
    {
     "name": "stdout",
     "output_type": "stream",
     "text": [
      "   NumberRooms  Alley_Pave  Alley_nan\n",
      "0          3.0           1          0\n",
      "1          2.0           0          1\n",
      "2          4.0           0          1\n",
      "3          3.0           0          1\n"
     ]
    }
   ],
   "source": [
    "inputs = pd.get_dummies(inputs, dummy_na=True)\n",
    "print(inputs)"
   ]
  },
  {
   "cell_type": "markdown",
   "id": "435236a6",
   "metadata": {},
   "source": [
    "#### 此时可以用values属性将array转为张量，注意一般numpy默认float64，在DL时候最好转为32位，64太慢了"
   ]
  },
  {
   "cell_type": "code",
   "execution_count": 58,
   "id": "a3a3f690",
   "metadata": {},
   "outputs": [
    {
     "data": {
      "text/plain": [
       "(tensor([[3., 1., 0.],\n",
       "         [2., 0., 1.],\n",
       "         [4., 0., 1.],\n",
       "         [3., 0., 1.]], dtype=torch.float64),\n",
       " tensor([127500, 106000, 178000, 140000]))"
      ]
     },
     "execution_count": 58,
     "metadata": {},
     "output_type": "execute_result"
    }
   ],
   "source": [
    "import torch\n",
    "X, y = torch.tensor(inputs.values), torch.tensor(outputs.values)\n",
    "X, y"
   ]
  },
  {
   "cell_type": "code",
   "execution_count": 62,
   "id": "7c72a264",
   "metadata": {},
   "outputs": [],
   "source": [
    "import numpy as np"
   ]
  },
  {
   "cell_type": "code",
   "execution_count": 63,
   "id": "85f85f83",
   "metadata": {},
   "outputs": [
    {
     "data": {
      "text/plain": [
       "array([[1, 2, 3],\n",
       "       [2, 2, 1]])"
      ]
     },
     "execution_count": 63,
     "metadata": {},
     "output_type": "execute_result"
    }
   ],
   "source": [
    "np.array([[1,2,3], [2, 2,1]])"
   ]
  },
  {
   "cell_type": "markdown",
   "id": "cbdae978",
   "metadata": {},
   "source": [
    "## QA"
   ]
  },
  {
   "cell_type": "markdown",
   "id": "4e0577a0",
   "metadata": {},
   "source": [
    "#### view和reshape区别,reshape其实创建的是view，相当于数据访问方式变了，但是位置不变，改了其相当于原来改了,一般不用"
   ]
  },
  {
   "cell_type": "code",
   "execution_count": 88,
   "id": "95f6c12c",
   "metadata": {},
   "outputs": [
    {
     "name": "stdout",
     "output_type": "stream",
     "text": [
      "139946493001216\n",
      "139946492876896\n",
      "tensor([2, 2, 2, 2, 2, 2, 2, 2, 2, 2, 2, 2])\n"
     ]
    }
   ],
   "source": [
    "a = torch.arange(12)\n",
    "b = a.reshape((3,4))\n",
    "b[0,1] = 13\n",
    "print(id(a))\n",
    "print(id(b))\n",
    "b[:] = 2\n",
    "print(a)"
   ]
  },
  {
   "cell_type": "code",
   "execution_count": 84,
   "id": "486be161",
   "metadata": {},
   "outputs": [
    {
     "data": {
      "text/plain": [
       "(array([0, 1, 2, 3, 4, 5]),\n",
       " array([[0, 1, 2],\n",
       "        [3, 4, 5]]))"
      ]
     },
     "execution_count": 84,
     "metadata": {},
     "output_type": "execute_result"
    }
   ],
   "source": [
    "a = np.arange(6)\n",
    "b =  a.reshape((2,3))\n",
    "a,b"
   ]
  },
  {
   "cell_type": "code",
   "execution_count": 86,
   "id": "3fdac1aa",
   "metadata": {},
   "outputs": [],
   "source": [
    "b[0,1] = 10"
   ]
  },
  {
   "cell_type": "markdown",
   "id": "0465bc43",
   "metadata": {},
   "source": [
    "#### 本质上ndarray 和tensor没啥区别，不过tf和torch框架喜欢用torch表示“张量”（有数学上的含义，而数组只有计算机上的含义）,view和reshape基本没啥区别，view和原torch共享内存,修改同时会修改源"
   ]
  },
  {
   "cell_type": "code",
   "execution_count": 126,
   "id": "c6b5562b",
   "metadata": {},
   "outputs": [
    {
     "data": {
      "text/plain": [
       "True"
      ]
     },
     "execution_count": 126,
     "metadata": {},
     "output_type": "execute_result"
    }
   ],
   "source": [
    "x = torch.rand(4, 4)\n",
    "y = x.view(2,8)\n",
    "x.storage().data_ptr() == y.storage().data_ptr()"
   ]
  },
  {
   "cell_type": "code",
   "execution_count": 127,
   "id": "7ee267fe",
   "metadata": {},
   "outputs": [
    {
     "data": {
      "text/plain": [
       "tensor([[  0.1465, 100.0000,   0.6033,   0.6119],\n",
       "        [  0.9646,   0.4987,   0.7558,   0.9693],\n",
       "        [  0.8272,   0.1632,   0.7153,   0.5435],\n",
       "        [  0.5386,   0.9320,   0.4324,   0.1768]])"
      ]
     },
     "execution_count": 127,
     "metadata": {},
     "output_type": "execute_result"
    }
   ],
   "source": [
    "y[0,1] = 100\n",
    "x"
   ]
  },
  {
   "cell_type": "code",
   "execution_count": 128,
   "id": "b5966c50",
   "metadata": {},
   "outputs": [],
   "source": [
    "z = x.transpose(0,1)"
   ]
  },
  {
   "cell_type": "code",
   "execution_count": 129,
   "id": "c63e8fb1",
   "metadata": {},
   "outputs": [
    {
     "data": {
      "text/plain": [
       "tensor([[  0.1465,   0.9646,   0.8272,   0.5386],\n",
       "        [100.0000,   0.4987,   0.1632,   0.9320],\n",
       "        [  0.6033,   0.7558,   0.7153,   0.4324],\n",
       "        [  0.6119,   0.9693,   0.5435,   0.1768]])"
      ]
     },
     "execution_count": 129,
     "metadata": {},
     "output_type": "execute_result"
    }
   ],
   "source": [
    "z"
   ]
  },
  {
   "cell_type": "code",
   "execution_count": 130,
   "id": "49f0275f",
   "metadata": {},
   "outputs": [
    {
     "data": {
      "text/plain": [
       "False"
      ]
     },
     "execution_count": 130,
     "metadata": {},
     "output_type": "execute_result"
    }
   ],
   "source": [
    "z.is_contiguous()"
   ]
  },
  {
   "cell_type": "code",
   "execution_count": 131,
   "id": "7c052cc2",
   "metadata": {},
   "outputs": [],
   "source": [
    "z[0,1] = 100"
   ]
  },
  {
   "cell_type": "code",
   "execution_count": 132,
   "id": "e02af52c",
   "metadata": {},
   "outputs": [],
   "source": [
    "z = z.contiguous()"
   ]
  },
  {
   "cell_type": "code",
   "execution_count": 133,
   "id": "f3d542fa",
   "metadata": {},
   "outputs": [
    {
     "data": {
      "text/plain": [
       "True"
      ]
     },
     "execution_count": 133,
     "metadata": {},
     "output_type": "execute_result"
    }
   ],
   "source": [
    "z.is_contiguous()"
   ]
  },
  {
   "cell_type": "code",
   "execution_count": 134,
   "id": "de60469e",
   "metadata": {},
   "outputs": [
    {
     "data": {
      "text/plain": [
       "tensor([[  0.1465, 100.0000,   0.8272,   0.5386],\n",
       "        [100.0000,   0.4987,   0.1632,   0.9320],\n",
       "        [  0.6033,   0.7558,   0.7153,   0.4324],\n",
       "        [  0.6119,   0.9693,   0.5435,   0.1768]])"
      ]
     },
     "execution_count": 134,
     "metadata": {},
     "output_type": "execute_result"
    }
   ],
   "source": [
    "z"
   ]
  }
 ],
 "metadata": {
  "kernelspec": {
   "display_name": "Python 3 (ipykernel)",
   "language": "python",
   "name": "python3"
  },
  "language_info": {
   "codemirror_mode": {
    "name": "ipython",
    "version": 3
   },
   "file_extension": ".py",
   "mimetype": "text/x-python",
   "name": "python",
   "nbconvert_exporter": "python",
   "pygments_lexer": "ipython3",
   "version": "3.8.13"
  }
 },
 "nbformat": 4,
 "nbformat_minor": 5
}
